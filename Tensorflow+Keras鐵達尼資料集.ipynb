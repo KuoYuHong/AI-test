{
 "cells": [
  {
   "cell_type": "code",
   "execution_count": 1,
   "metadata": {},
   "outputs": [
    {
     "name": "stderr",
     "output_type": "stream",
     "text": [
      "Using TensorFlow backend.\n"
     ]
    }
   ],
   "source": [
    "import tensorflow as tf\n",
    "import keras as kr\n",
    "import urllib.request\n",
    "import os\n",
    "url=\"http://biostat.mc.vanderbilt.edu/wiki/pub/Main/DataSets/titanic3.xls\"\n",
    "filepath=\"titanic3.xls\"\n",
    "if not os.path.isfile(filepath):\n",
    "    result=urllib.request.urlretrieve(url,filepath)\n",
    "    print('downloaded:',result)"
   ]
  },
  {
   "cell_type": "code",
   "execution_count": 87,
   "metadata": {},
   "outputs": [
    {
     "name": "stdout",
     "output_type": "stream",
     "text": [
      "   PassengerId  pclass  survived                            name     sex  \\\n",
      "0            1       1         1   Allen, Miss. Elisabeth Walton  female   \n",
      "1            2       1         1  Allison, Master. Hudson Trevor    male   \n",
      "\n",
      "       age  sibsp  parch  ticket      fare    cabin embarked boat  body  \\\n",
      "0  29.0000      0      0   24160  211.3375       B5        S    2   NaN   \n",
      "1   0.9167      1      2  113781  151.5500  C22 C26        S   11   NaN   \n",
      "\n",
      "                         home.dest  \n",
      "0                     St Louis, MO  \n",
      "1  Montreal, PQ / Chesterville, ON  \n",
      "----------\n",
      "   survived                            name  pclass     sex      age  sibsp  \\\n",
      "0         1   Allen, Miss. Elisabeth Walton       1  female  29.0000      0   \n",
      "1         1  Allison, Master. Hudson Trevor       1    male   0.9167      1   \n",
      "\n",
      "   parch      fare embarked  \n",
      "0      0  211.3375        S  \n",
      "1      2  151.5500        S  \n"
     ]
    }
   ],
   "source": [
    "import numpy\n",
    "import pandas as pd\n",
    "\n",
    "all_df = pd.read_excel(filepath)\n",
    "print(all_df[:2])\n",
    "print(\"-\"*10)\n",
    "cols = ['survived','name','pclass','sex','age','sibsp','parch','fare','embarked']\n",
    "all_df = all_df[cols]\n",
    "print(all_df[:2])"
   ]
  },
  {
   "cell_type": "markdown",
   "metadata": {},
   "source": [
    "## 資料前處理"
   ]
  },
  {
   "cell_type": "code",
   "execution_count": 88,
   "metadata": {},
   "outputs": [
    {
     "name": "stdout",
     "output_type": "stream",
     "text": [
      "survived      0\n",
      "name          0\n",
      "pclass        0\n",
      "sex           0\n",
      "age         263\n",
      "sibsp         0\n",
      "parch         0\n",
      "fare          1\n",
      "embarked      2\n",
      "dtype: int64\n",
      "----------\n",
      "   survived  pclass  sex      age  sibsp  parch      fare  embarked_C  \\\n",
      "0         1       1    0  29.0000      0      0  211.3375           0   \n",
      "1         1       1    1   0.9167      1      2  151.5500           0   \n",
      "\n",
      "   embarked_Q  embarked_S  \n",
      "0           0           1  \n",
      "1           0           1  \n"
     ]
    }
   ],
   "source": [
    "df = all_df.drop(['name'],axis=1)\n",
    "print(all_df.isnull().sum())\n",
    "print(\"-\"*10)\n",
    "age_mean = df['age'].mean()\n",
    "df['age'] = df['age'].fillna(age_mean)\n",
    "fare_mean = df['fare'].mean()\n",
    "df['fare'] = df['fare'].fillna(fare_mean)\n",
    "df['sex'] = df['sex'].map({'female':0,'male':1}).astype(int)\n",
    "x_OneHot_df = pd.get_dummies(data=df,columns=[\"embarked\"])\n",
    "print(x_OneHot_df[:2])"
   ]
  },
  {
   "cell_type": "markdown",
   "metadata": {},
   "source": [
    "## 將DataFrame轉換成Array"
   ]
  },
  {
   "cell_type": "code",
   "execution_count": 89,
   "metadata": {},
   "outputs": [
    {
     "name": "stdout",
     "output_type": "stream",
     "text": [
      "(1309, 10)\n",
      "----------\n",
      "[[  1.       1.       0.      29.       0.       0.     211.3375   0.\n",
      "    0.       1.    ]\n",
      " [  1.       1.       1.       0.9167   1.       2.     151.55     0.\n",
      "    0.       1.    ]]\n",
      "----------\n",
      "[1. 1.]\n",
      "----------\n",
      "[[  1.       0.      29.       0.       0.     211.3375   0.       0.\n",
      "    1.    ]\n",
      " [  1.       1.       0.9167   1.       2.     151.55     0.       0.\n",
      "    1.    ]]\n"
     ]
    }
   ],
   "source": [
    "ndarray = x_OneHot_df.values\n",
    "print(ndarray.shape)\n",
    "print(\"-\"*10)\n",
    "print(ndarray[:2])\n",
    "label = ndarray[:,0]\n",
    "Features = ndarray[:,1:]\n",
    "print(\"-\"*10)\n",
    "print(label[:2])\n",
    "print(\"-\"*10)\n",
    "print(Features[:2])"
   ]
  },
  {
   "cell_type": "code",
   "execution_count": 90,
   "metadata": {},
   "outputs": [
    {
     "data": {
      "text/plain": [
       "array([[0.        , 0.        , 0.36116884, 0.        , 0.        ,\n",
       "        0.41250333, 0.        , 0.        , 1.        ],\n",
       "       [0.        , 1.        , 0.00939458, 0.125     , 0.22222222,\n",
       "        0.2958059 , 0.        , 0.        , 1.        ]])"
      ]
     },
     "execution_count": 90,
     "metadata": {},
     "output_type": "execute_result"
    }
   ],
   "source": [
    "from sklearn import preprocessing\n",
    "minmax_scale = preprocessing.MinMaxScaler(feature_range=(0,1))\n",
    "scaledFeatures = minmax_scale.fit_transform(Features)\n",
    "scaledFeatures[:2]"
   ]
  },
  {
   "cell_type": "markdown",
   "metadata": {},
   "source": [
    "## 將data分成train和test"
   ]
  },
  {
   "cell_type": "code",
   "execution_count": 91,
   "metadata": {},
   "outputs": [
    {
     "name": "stdout",
     "output_type": "stream",
     "text": [
      "total: 1309 train: 1028 test: 281\n",
      "----------\n",
      "[[0.         0.         0.36116884 0.         0.         0.41250333\n",
      "  0.         0.         1.        ]\n",
      " [0.         1.         0.00939458 0.125      0.22222222 0.2958059\n",
      "  0.         0.         1.        ]]\n",
      "----------\n",
      "[1. 1.]\n"
     ]
    }
   ],
   "source": [
    "msk = numpy.random.rand(len(all_df)) < 0.8\n",
    "train_df = all_df[msk]\n",
    "test_df = all_df[~msk]\n",
    "print(\n",
    "'total:',len(all_df),\n",
    "'train:',len(train_df),\n",
    "'test:',len(test_df)\n",
    ")\n",
    "print(\"-\"*10)\n",
    "def PreprocessData(raw_df):\n",
    "    df=raw_df.drop(['name'],axis=1)\n",
    "    age_mean=df['age'].mean()\n",
    "    df['age']=df['age'].fillna(age_mean)\n",
    "    fare_mean=df['fare'].mean()\n",
    "    df['fare']=df['fare'].fillna(fare_mean)\n",
    "    df['sex']=df['sex'].map({'female':0,'male':1}).astype(int)\n",
    "    x_OneHot_df=pd.get_dummies(data=df,columns=[\"embarked\"])\n",
    "    \n",
    "    ndarray=x_OneHot_df.values\n",
    "    Feature=ndarray[:,1:]\n",
    "    Label=ndarray[:,0]\n",
    "    \n",
    "    minmax_scale=preprocessing.MinMaxScaler(feature_range=(0,1))\n",
    "    scaledFeatures=minmax_scale.fit_transform(Feature)\n",
    "    \n",
    "    return scaledFeatures,Label\n",
    "\n",
    "train_Features,train_Label=PreprocessData(train_df)\n",
    "test_Features,test_Label=PreprocessData(test_df)\n",
    "print(train_Features[:2])\n",
    "print(\"-\"*10)\n",
    "print(train_Label[:2])"
   ]
  },
  {
   "cell_type": "markdown",
   "metadata": {},
   "source": [
    "# Keras："
   ]
  },
  {
   "cell_type": "code",
   "execution_count": 92,
   "metadata": {},
   "outputs": [],
   "source": [
    "import urllib.request\n",
    "import os\n",
    "import tarfile"
   ]
  },
  {
   "cell_type": "markdown",
   "metadata": {},
   "source": [
    "## 數據前處理"
   ]
  },
  {
   "cell_type": "code",
   "execution_count": 94,
   "metadata": {},
   "outputs": [
    {
     "name": "stdout",
     "output_type": "stream",
     "text": [
      "total: 1309 train: 1063 test: 246\n"
     ]
    }
   ],
   "source": [
    "all_df = pd.read_excel(\"titanic3-1.xls\")\n",
    "cols=['survived','name','pclass' ,'sex', 'age', 'sibsp',\n",
    "      'parch', 'fare', 'embarked']\n",
    "all_df=all_df[cols]\n",
    "msk = numpy.random.rand(len(all_df)) < 0.8 #8成train、2成test\n",
    "train_df = all_df[msk]\n",
    "test_df = all_df[~msk]\n",
    "print('total:',len(all_df),\n",
    "      'train:',len(train_df),\n",
    "      'test:',len(test_df)) #顯示總數量、train數量、test數量"
   ]
  },
  {
   "cell_type": "code",
   "execution_count": 95,
   "metadata": {},
   "outputs": [],
   "source": [
    "train_Features,train_Label=PreprocessData(train_df)\n",
    "test_Features,test_Label=PreprocessData(test_df)"
   ]
  },
  {
   "cell_type": "markdown",
   "metadata": {},
   "source": [
    "## 建立模型"
   ]
  },
  {
   "cell_type": "code",
   "execution_count": 96,
   "metadata": {},
   "outputs": [],
   "source": [
    "from keras.models import Sequential\n",
    "from keras.layers import Dense,Dropout\n",
    "model = Sequential() #線性堆疊模型\n",
    "model.add(Dense(units=40, input_dim=9, \n",
    "                kernel_initializer='uniform', \n",
    "                activation='relu')) #Dense神經網路層(上一層與下一層的神經元都完全連接)\n",
    "#units：神經元數\n",
    "#input_dim：9個神經元輸入\n",
    "#activation：激活函數relu"
   ]
  },
  {
   "cell_type": "code",
   "execution_count": 97,
   "metadata": {},
   "outputs": [],
   "source": [
    "model.add(Dense(units=30, \n",
    "                kernel_initializer='uniform', \n",
    "                activation='relu'))"
   ]
  },
  {
   "cell_type": "code",
   "execution_count": 98,
   "metadata": {},
   "outputs": [],
   "source": [
    "model.add(Dense(units=1, \n",
    "                kernel_initializer='uniform',\n",
    "                activation='sigmoid'))"
   ]
  },
  {
   "cell_type": "markdown",
   "metadata": {},
   "source": [
    "## 訓練模型"
   ]
  },
  {
   "cell_type": "code",
   "execution_count": 99,
   "metadata": {
    "scrolled": true
   },
   "outputs": [
    {
     "name": "stdout",
     "output_type": "stream",
     "text": [
      "Train on 956 samples, validate on 107 samples\n",
      "Epoch 1/30\n",
      " - 1s - loss: 0.6893 - acc: 0.5764 - val_loss: 0.6619 - val_acc: 0.7850\n",
      "Epoch 2/30\n",
      " - 0s - loss: 0.6573 - acc: 0.5900 - val_loss: 0.5469 - val_acc: 0.7850\n",
      "Epoch 3/30\n",
      " - 0s - loss: 0.6084 - acc: 0.6444 - val_loss: 0.4831 - val_acc: 0.7850\n",
      "Epoch 4/30\n",
      " - 0s - loss: 0.5690 - acc: 0.7270 - val_loss: 0.4557 - val_acc: 0.7944\n",
      "Epoch 5/30\n",
      " - 0s - loss: 0.5316 - acc: 0.7897 - val_loss: 0.4415 - val_acc: 0.8131\n",
      "Epoch 6/30\n",
      " - 0s - loss: 0.5087 - acc: 0.7814 - val_loss: 0.4275 - val_acc: 0.8131\n",
      "Epoch 7/30\n",
      " - 0s - loss: 0.4934 - acc: 0.7814 - val_loss: 0.4238 - val_acc: 0.8131\n",
      "Epoch 8/30\n",
      " - 0s - loss: 0.4864 - acc: 0.7877 - val_loss: 0.4564 - val_acc: 0.8131\n",
      "Epoch 9/30\n",
      " - 0s - loss: 0.4779 - acc: 0.7845 - val_loss: 0.4235 - val_acc: 0.8131\n",
      "Epoch 10/30\n",
      " - 0s - loss: 0.4731 - acc: 0.7866 - val_loss: 0.4268 - val_acc: 0.8131\n",
      "Epoch 11/30\n",
      " - 0s - loss: 0.4701 - acc: 0.7856 - val_loss: 0.4312 - val_acc: 0.8131\n",
      "Epoch 12/30\n",
      " - 0s - loss: 0.4709 - acc: 0.7856 - val_loss: 0.4350 - val_acc: 0.8131\n",
      "Epoch 13/30\n",
      " - 0s - loss: 0.4693 - acc: 0.7845 - val_loss: 0.4217 - val_acc: 0.8131\n",
      "Epoch 14/30\n",
      " - 0s - loss: 0.4634 - acc: 0.7845 - val_loss: 0.4225 - val_acc: 0.8131\n",
      "Epoch 15/30\n",
      " - 0s - loss: 0.4618 - acc: 0.7908 - val_loss: 0.4183 - val_acc: 0.8131\n",
      "Epoch 16/30\n",
      " - 0s - loss: 0.4596 - acc: 0.7887 - val_loss: 0.4148 - val_acc: 0.8037\n",
      "Epoch 17/30\n",
      " - 0s - loss: 0.4583 - acc: 0.7897 - val_loss: 0.4114 - val_acc: 0.8037\n",
      "Epoch 18/30\n",
      " - 0s - loss: 0.4570 - acc: 0.7887 - val_loss: 0.4251 - val_acc: 0.8131\n",
      "Epoch 19/30\n",
      " - 0s - loss: 0.4581 - acc: 0.7950 - val_loss: 0.4105 - val_acc: 0.8131\n",
      "Epoch 20/30\n",
      " - 0s - loss: 0.4556 - acc: 0.7908 - val_loss: 0.4142 - val_acc: 0.8037\n",
      "Epoch 21/30\n",
      " - 0s - loss: 0.4544 - acc: 0.7929 - val_loss: 0.4113 - val_acc: 0.8037\n",
      "Epoch 22/30\n",
      " - 0s - loss: 0.4532 - acc: 0.7897 - val_loss: 0.4107 - val_acc: 0.8318\n",
      "Epoch 23/30\n",
      " - 0s - loss: 0.4555 - acc: 0.7918 - val_loss: 0.4111 - val_acc: 0.8131\n",
      "Epoch 24/30\n",
      " - 0s - loss: 0.4517 - acc: 0.7918 - val_loss: 0.4156 - val_acc: 0.8037\n",
      "Epoch 25/30\n",
      " - 0s - loss: 0.4513 - acc: 0.7950 - val_loss: 0.4095 - val_acc: 0.8411\n",
      "Epoch 26/30\n",
      " - 0s - loss: 0.4513 - acc: 0.7960 - val_loss: 0.4128 - val_acc: 0.8037\n",
      "Epoch 27/30\n",
      " - 0s - loss: 0.4501 - acc: 0.8013 - val_loss: 0.4102 - val_acc: 0.8411\n",
      "Epoch 28/30\n",
      " - 0s - loss: 0.4494 - acc: 0.8044 - val_loss: 0.4308 - val_acc: 0.8037\n",
      "Epoch 29/30\n",
      " - 0s - loss: 0.4542 - acc: 0.7950 - val_loss: 0.4092 - val_acc: 0.8411\n",
      "Epoch 30/30\n",
      " - 0s - loss: 0.4487 - acc: 0.7939 - val_loss: 0.4144 - val_acc: 0.8318\n"
     ]
    }
   ],
   "source": [
    "model.compile(loss='binary_crossentropy', \n",
    "              optimizer='adam', metrics=['accuracy'])\n",
    "#compile(source, filename, mode[, flags[, dont_inherit]])\n",
    "#loss='binary_crossentropy' 損失函數\n",
    "#optimizer='adam' 優化器\n",
    "#metrics=['accuracy'] 評估模型方式:準確率\n",
    "train_history =model.fit(x=train_Features, \n",
    "                         y=train_Label, \n",
    "                         validation_split=0.1, \n",
    "                         epochs=30, \n",
    "                         batch_size=30,verbose=2)\n",
    "#validation_split：9成train、1成test\n",
    "#epochs：n個訓練週期 \n",
    "#batch_size：每次執行n個數據\n",
    "#verbose：顯示訓練過程，0為不在標準輸出流輸出日誌訊息，1為輸出進度條記錄，2為每個epoch輸出一行記錄\n",
    "\n",
    "#結果解讀：\n",
    "#loss: (train誤差) - acc: (train準確) - val_loss: (test誤差 )- val_acc: (test準確)"
   ]
  },
  {
   "cell_type": "code",
   "execution_count": 100,
   "metadata": {},
   "outputs": [],
   "source": [
    "import matplotlib.pyplot as plt\n",
    "def show_train_history(train_history,train,validation):\n",
    "    plt.plot(train_history.history[train])\n",
    "    plt.plot(train_history.history[validation])\n",
    "    plt.title('Train History')\n",
    "    plt.ylabel(train)\n",
    "    plt.xlabel('Epoch')\n",
    "    plt.legend(['train', 'validation'], loc='upper left')\n",
    "    plt.show()"
   ]
  },
  {
   "cell_type": "code",
   "execution_count": 101,
   "metadata": {},
   "outputs": [
    {
     "data": {
      "image/png": "[encoded data removed]",
      "text/plain": [
       "<Figure size 432x288 with 1 Axes>"
      ]
     },
     "metadata": {
      "needs_background": "light"
     },
     "output_type": "display_data"
    }
   ],
   "source": [
    "show_train_history(train_history,'acc','val_acc') #準確率執行結果"
   ]
  },
  {
   "cell_type": "code",
   "execution_count": 102,
   "metadata": {},
   "outputs": [
    {
     "data": {
      "image/png": "[encoded data removed]",
      "text/plain": [
       "<Figure size 432x288 with 1 Axes>"
      ]
     },
     "metadata": {
      "needs_background": "light"
     },
     "output_type": "display_data"
    }
   ],
   "source": [
    "show_train_history(train_history,'loss','val_loss') #誤差率執行結果"
   ]
  },
  {
   "cell_type": "markdown",
   "metadata": {},
   "source": [
    "## 評估模型準確率"
   ]
  },
  {
   "cell_type": "code",
   "execution_count": 103,
   "metadata": {},
   "outputs": [
    {
     "name": "stdout",
     "output_type": "stream",
     "text": [
      "246/246 [==============================] - 0s 36us/step\n"
     ]
    }
   ],
   "source": [
    "scores = model.evaluate(x=test_Features, \n",
    "                        y=test_Label)"
   ]
  },
  {
   "cell_type": "code",
   "execution_count": 104,
   "metadata": {},
   "outputs": [
    {
     "data": {
      "text/plain": [
       "0.7723577216388734"
      ]
     },
     "execution_count": 104,
     "metadata": {},
     "output_type": "execute_result"
    }
   ],
   "source": [
    "scores[1]"
   ]
  },
  {
   "cell_type": "markdown",
   "metadata": {},
   "source": [
    "## 加入Jack、Rose數據"
   ]
  },
  {
   "cell_type": "code",
   "execution_count": 105,
   "metadata": {},
   "outputs": [
    {
     "data": {
      "text/html": [
       "<div>\n",
       "<style scoped>\n",
       "    .dataframe tbody tr th:only-of-type {\n",
       "        vertical-align: middle;\n",
       "    }\n",
       "\n",
       "    .dataframe tbody tr th {\n",
       "        vertical-align: top;\n",
       "    }\n",
       "\n",
       "    .dataframe thead th {\n",
       "        text-align: right;\n",
       "    }\n",
       "</style>\n",
       "<table border=\"1\" class=\"dataframe\">\n",
       "  <thead>\n",
       "    <tr style=\"text-align: right;\">\n",
       "      <th></th>\n",
       "      <th>survived</th>\n",
       "      <th>name</th>\n",
       "      <th>pclass</th>\n",
       "      <th>sex</th>\n",
       "      <th>age</th>\n",
       "      <th>sibsp</th>\n",
       "      <th>parch</th>\n",
       "      <th>fare</th>\n",
       "      <th>embarked</th>\n",
       "    </tr>\n",
       "  </thead>\n",
       "  <tbody>\n",
       "    <tr>\n",
       "      <th>0</th>\n",
       "      <td>0</td>\n",
       "      <td>Jack</td>\n",
       "      <td>3</td>\n",
       "      <td>male</td>\n",
       "      <td>23.0</td>\n",
       "      <td>1</td>\n",
       "      <td>0</td>\n",
       "      <td>5.0</td>\n",
       "      <td>S</td>\n",
       "    </tr>\n",
       "    <tr>\n",
       "      <th>1</th>\n",
       "      <td>1</td>\n",
       "      <td>Rose</td>\n",
       "      <td>1</td>\n",
       "      <td>female</td>\n",
       "      <td>20.0</td>\n",
       "      <td>1</td>\n",
       "      <td>0</td>\n",
       "      <td>100.0</td>\n",
       "      <td>S</td>\n",
       "    </tr>\n",
       "  </tbody>\n",
       "</table>\n",
       "</div>"
      ],
      "text/plain": [
       "   survived  name  pclass     sex   age  sibsp  parch   fare embarked\n",
       "0         0  Jack       3    male  23.0      1      0    5.0        S\n",
       "1         1  Rose       1  female  20.0      1      0  100.0        S"
      ]
     },
     "execution_count": 105,
     "metadata": {},
     "output_type": "execute_result"
    }
   ],
   "source": [
    "Jack = pd.Series([0 ,'Jack',3, 'male'  , 23, 1, 0,  5.0000,'S'])\n",
    "Rose = pd.Series([1 ,'Rose',1, 'female', 20, 1, 0, 100.0000,'S'])\n",
    "JR_df = pd.DataFrame([list(Jack),list(Rose)],  \n",
    "                  columns=['survived', 'name','pclass', 'sex', \n",
    "                   'age', 'sibsp','parch', 'fare','embarked'])\n",
    "all_df=pd.concat([all_df,JR_df])\n",
    "all_df[-2:] #查看最後兩項新增的數據(J&R)"
   ]
  },
  {
   "cell_type": "markdown",
   "metadata": {},
   "source": [
    "## 進行預測"
   ]
  },
  {
   "cell_type": "code",
   "execution_count": 106,
   "metadata": {},
   "outputs": [
    {
     "data": {
      "text/plain": [
       "array([[0.9535768 ],\n",
       "       [0.569744  ],\n",
       "       [0.951892  ],\n",
       "       [0.33720136],\n",
       "       [0.9423639 ],\n",
       "       [0.25472277],\n",
       "       [0.85538125],\n",
       "       [0.30358294],\n",
       "       [0.851666  ],\n",
       "       [0.25856742]], dtype=float32)"
      ]
     },
     "execution_count": 106,
     "metadata": {},
     "output_type": "execute_result"
    }
   ],
   "source": [
    "all_Features,Label=PreprocessData(all_df)\n",
    "all_probability=model.predict(all_Features) #進行預測\n",
    "all_probability[:10] #取前10項數據"
   ]
  },
  {
   "cell_type": "code",
   "execution_count": 107,
   "metadata": {},
   "outputs": [],
   "source": [
    "pd=all_df\n",
    "pd.insert(len(all_df.columns),\n",
    "          'probability',all_probability)"
   ]
  },
  {
   "cell_type": "markdown",
   "metadata": {},
   "source": [
    "## 預測Jack & Rose資料的生存機率"
   ]
  },
  {
   "cell_type": "code",
   "execution_count": 108,
   "metadata": {},
   "outputs": [
    {
     "data": {
      "text/html": [
       "<div>\n",
       "<style scoped>\n",
       "    .dataframe tbody tr th:only-of-type {\n",
       "        vertical-align: middle;\n",
       "    }\n",
       "\n",
       "    .dataframe tbody tr th {\n",
       "        vertical-align: top;\n",
       "    }\n",
       "\n",
       "    .dataframe thead th {\n",
       "        text-align: right;\n",
       "    }\n",
       "</style>\n",
       "<table border=\"1\" class=\"dataframe\">\n",
       "  <thead>\n",
       "    <tr style=\"text-align: right;\">\n",
       "      <th></th>\n",
       "      <th>survived</th>\n",
       "      <th>name</th>\n",
       "      <th>pclass</th>\n",
       "      <th>sex</th>\n",
       "      <th>age</th>\n",
       "      <th>sibsp</th>\n",
       "      <th>parch</th>\n",
       "      <th>fare</th>\n",
       "      <th>embarked</th>\n",
       "      <th>probability</th>\n",
       "    </tr>\n",
       "  </thead>\n",
       "  <tbody>\n",
       "    <tr>\n",
       "      <th>0</th>\n",
       "      <td>0</td>\n",
       "      <td>Jack</td>\n",
       "      <td>3</td>\n",
       "      <td>male</td>\n",
       "      <td>23.0</td>\n",
       "      <td>1</td>\n",
       "      <td>0</td>\n",
       "      <td>5.0</td>\n",
       "      <td>S</td>\n",
       "      <td>0.129992</td>\n",
       "    </tr>\n",
       "    <tr>\n",
       "      <th>1</th>\n",
       "      <td>1</td>\n",
       "      <td>Rose</td>\n",
       "      <td>1</td>\n",
       "      <td>female</td>\n",
       "      <td>20.0</td>\n",
       "      <td>1</td>\n",
       "      <td>0</td>\n",
       "      <td>100.0</td>\n",
       "      <td>S</td>\n",
       "      <td>0.942932</td>\n",
       "    </tr>\n",
       "  </tbody>\n",
       "</table>\n",
       "</div>"
      ],
      "text/plain": [
       "   survived  name  pclass     sex   age  sibsp  parch   fare embarked  \\\n",
       "0         0  Jack       3    male  23.0      1      0    5.0        S   \n",
       "1         1  Rose       1  female  20.0      1      0  100.0        S   \n",
       "\n",
       "   probability  \n",
       "0     0.129992  \n",
       "1     0.942932  "
      ]
     },
     "execution_count": 108,
     "metadata": {},
     "output_type": "execute_result"
    }
   ],
   "source": [
    "pd[-2:]"
   ]
  },
  {
   "cell_type": "markdown",
   "metadata": {},
   "source": [
    "## 查看生存率高卻沒有存活的旅客"
   ]
  },
  {
   "cell_type": "code",
   "execution_count": 109,
   "metadata": {},
   "outputs": [
    {
     "data": {
      "text/html": [
       "<div>\n",
       "<style scoped>\n",
       "    .dataframe tbody tr th:only-of-type {\n",
       "        vertical-align: middle;\n",
       "    }\n",
       "\n",
       "    .dataframe tbody tr th {\n",
       "        vertical-align: top;\n",
       "    }\n",
       "\n",
       "    .dataframe thead th {\n",
       "        text-align: right;\n",
       "    }\n",
       "</style>\n",
       "<table border=\"1\" class=\"dataframe\">\n",
       "  <thead>\n",
       "    <tr style=\"text-align: right;\">\n",
       "      <th></th>\n",
       "      <th>survived</th>\n",
       "      <th>name</th>\n",
       "      <th>pclass</th>\n",
       "      <th>sex</th>\n",
       "      <th>age</th>\n",
       "      <th>sibsp</th>\n",
       "      <th>parch</th>\n",
       "      <th>fare</th>\n",
       "      <th>embarked</th>\n",
       "      <th>probability</th>\n",
       "    </tr>\n",
       "  </thead>\n",
       "  <tbody>\n",
       "    <tr>\n",
       "      <th>2</th>\n",
       "      <td>0</td>\n",
       "      <td>Allison, Miss. Helen Loraine</td>\n",
       "      <td>1</td>\n",
       "      <td>female</td>\n",
       "      <td>2.0</td>\n",
       "      <td>1</td>\n",
       "      <td>2</td>\n",
       "      <td>151.5500</td>\n",
       "      <td>S</td>\n",
       "      <td>0.951892</td>\n",
       "    </tr>\n",
       "    <tr>\n",
       "      <th>4</th>\n",
       "      <td>0</td>\n",
       "      <td>Allison, Mrs. Hudson J C (Bessie Waldo Daniels)</td>\n",
       "      <td>1</td>\n",
       "      <td>female</td>\n",
       "      <td>25.0</td>\n",
       "      <td>1</td>\n",
       "      <td>2</td>\n",
       "      <td>151.5500</td>\n",
       "      <td>S</td>\n",
       "      <td>0.942364</td>\n",
       "    </tr>\n",
       "    <tr>\n",
       "      <th>105</th>\n",
       "      <td>0</td>\n",
       "      <td>Evans, Miss. Edith Corse</td>\n",
       "      <td>1</td>\n",
       "      <td>female</td>\n",
       "      <td>36.0</td>\n",
       "      <td>0</td>\n",
       "      <td>0</td>\n",
       "      <td>31.6792</td>\n",
       "      <td>C</td>\n",
       "      <td>0.960341</td>\n",
       "    </tr>\n",
       "    <tr>\n",
       "      <th>169</th>\n",
       "      <td>0</td>\n",
       "      <td>Isham, Miss. Ann Elizabeth</td>\n",
       "      <td>1</td>\n",
       "      <td>female</td>\n",
       "      <td>50.0</td>\n",
       "      <td>0</td>\n",
       "      <td>0</td>\n",
       "      <td>28.7125</td>\n",
       "      <td>C</td>\n",
       "      <td>0.954074</td>\n",
       "    </tr>\n",
       "  </tbody>\n",
       "</table>\n",
       "</div>"
      ],
      "text/plain": [
       "     survived                                             name  pclass  \\\n",
       "2           0                     Allison, Miss. Helen Loraine       1   \n",
       "4           0  Allison, Mrs. Hudson J C (Bessie Waldo Daniels)       1   \n",
       "105         0                         Evans, Miss. Edith Corse       1   \n",
       "169         0                       Isham, Miss. Ann Elizabeth       1   \n",
       "\n",
       "        sex   age  sibsp  parch      fare embarked  probability  \n",
       "2    female   2.0      1      2  151.5500        S     0.951892  \n",
       "4    female  25.0      1      2  151.5500        S     0.942364  \n",
       "105  female  36.0      0      0   31.6792        C     0.960341  \n",
       "169  female  50.0      0      0   28.7125        C     0.954074  "
      ]
     },
     "execution_count": 109,
     "metadata": {},
     "output_type": "execute_result"
    }
   ],
   "source": [
    "pd[(pd['survived']==0) &  (pd['probability']>0.9) ]"
   ]
  },
  {
   "cell_type": "code",
   "execution_count": 110,
   "metadata": {},
   "outputs": [
    {
     "data": {
      "text/html": [
       "<div>\n",
       "<style scoped>\n",
       "    .dataframe tbody tr th:only-of-type {\n",
       "        vertical-align: middle;\n",
       "    }\n",
       "\n",
       "    .dataframe tbody tr th {\n",
       "        vertical-align: top;\n",
       "    }\n",
       "\n",
       "    .dataframe thead th {\n",
       "        text-align: right;\n",
       "    }\n",
       "</style>\n",
       "<table border=\"1\" class=\"dataframe\">\n",
       "  <thead>\n",
       "    <tr style=\"text-align: right;\">\n",
       "      <th></th>\n",
       "      <th>survived</th>\n",
       "      <th>name</th>\n",
       "      <th>pclass</th>\n",
       "      <th>sex</th>\n",
       "      <th>age</th>\n",
       "      <th>sibsp</th>\n",
       "      <th>parch</th>\n",
       "      <th>fare</th>\n",
       "      <th>embarked</th>\n",
       "      <th>probability</th>\n",
       "    </tr>\n",
       "  </thead>\n",
       "  <tbody>\n",
       "    <tr>\n",
       "      <th>0</th>\n",
       "      <td>1</td>\n",
       "      <td>Allen, Miss. Elisabeth Walton</td>\n",
       "      <td>1</td>\n",
       "      <td>female</td>\n",
       "      <td>29.0000</td>\n",
       "      <td>0</td>\n",
       "      <td>0</td>\n",
       "      <td>211.3375</td>\n",
       "      <td>S</td>\n",
       "      <td>0.953577</td>\n",
       "    </tr>\n",
       "    <tr>\n",
       "      <th>1</th>\n",
       "      <td>1</td>\n",
       "      <td>Allison, Master. Hudson Trevor</td>\n",
       "      <td>1</td>\n",
       "      <td>male</td>\n",
       "      <td>0.9167</td>\n",
       "      <td>1</td>\n",
       "      <td>2</td>\n",
       "      <td>151.5500</td>\n",
       "      <td>S</td>\n",
       "      <td>0.569744</td>\n",
       "    </tr>\n",
       "    <tr>\n",
       "      <th>2</th>\n",
       "      <td>0</td>\n",
       "      <td>Allison, Miss. Helen Loraine</td>\n",
       "      <td>1</td>\n",
       "      <td>female</td>\n",
       "      <td>2.0000</td>\n",
       "      <td>1</td>\n",
       "      <td>2</td>\n",
       "      <td>151.5500</td>\n",
       "      <td>S</td>\n",
       "      <td>0.951892</td>\n",
       "    </tr>\n",
       "    <tr>\n",
       "      <th>3</th>\n",
       "      <td>0</td>\n",
       "      <td>Allison, Mr. Hudson Joshua Creighton</td>\n",
       "      <td>1</td>\n",
       "      <td>male</td>\n",
       "      <td>30.0000</td>\n",
       "      <td>1</td>\n",
       "      <td>2</td>\n",
       "      <td>151.5500</td>\n",
       "      <td>S</td>\n",
       "      <td>0.337201</td>\n",
       "    </tr>\n",
       "    <tr>\n",
       "      <th>4</th>\n",
       "      <td>0</td>\n",
       "      <td>Allison, Mrs. Hudson J C (Bessie Waldo Daniels)</td>\n",
       "      <td>1</td>\n",
       "      <td>female</td>\n",
       "      <td>25.0000</td>\n",
       "      <td>1</td>\n",
       "      <td>2</td>\n",
       "      <td>151.5500</td>\n",
       "      <td>S</td>\n",
       "      <td>0.942364</td>\n",
       "    </tr>\n",
       "  </tbody>\n",
       "</table>\n",
       "</div>"
      ],
      "text/plain": [
       "   survived                                             name  pclass     sex  \\\n",
       "0         1                    Allen, Miss. Elisabeth Walton       1  female   \n",
       "1         1                   Allison, Master. Hudson Trevor       1    male   \n",
       "2         0                     Allison, Miss. Helen Loraine       1  female   \n",
       "3         0             Allison, Mr. Hudson Joshua Creighton       1    male   \n",
       "4         0  Allison, Mrs. Hudson J C (Bessie Waldo Daniels)       1  female   \n",
       "\n",
       "       age  sibsp  parch      fare embarked  probability  \n",
       "0  29.0000      0      0  211.3375        S     0.953577  \n",
       "1   0.9167      1      2  151.5500        S     0.569744  \n",
       "2   2.0000      1      2  151.5500        S     0.951892  \n",
       "3  30.0000      1      2  151.5500        S     0.337201  \n",
       "4  25.0000      1      2  151.5500        S     0.942364  "
      ]
     },
     "execution_count": 110,
     "metadata": {},
     "output_type": "execute_result"
    }
   ],
   "source": [
    "pd[:5]"
   ]
  },
  {
   "cell_type": "markdown",
   "metadata": {},
   "source": [
    "# 結論：\n",
    "這次鐵達尼資料集的目標是預測乘客「**是否生存**」<br>\n",
    "在各種欄位當中，我們可以觀察到...<br>\n",
    "1. 名字有可能影響最後生存率：名字**長度**、名字**某個字**的特徵可能與**國籍、民族文化有相關**，導致個性的不同，自然會影響到緊急時刻逃生的急迫性、求生的渴望(搶搭救生艇，還是魚貫排隊搭救生艇)\n",
    "2. 小孩個數1-3個存活率高：**老弱婦孺優先上救生艇**，大人陪同小孩優先上救生艇，導致整家人存活機率大幅提高\n",
    "3. 女士存活率高：**Lady First**觀念，優先上救生艇\n"
   ]
  },
  {
   "cell_type": "code",
   "execution_count": null,
   "metadata": {},
   "outputs": [],
   "source": []
  },
  {
   "cell_type": "code",
   "execution_count": null,
   "metadata": {},
   "outputs": [],
   "source": []
  }
 ],
 "metadata": {
  "kernelspec": {
   "display_name": "Python 3",
   "language": "python",
   "name": "python3"
  },
  "language_info": {
   "codemirror_mode": {
    "name": "ipython",
    "version": 3
   },
   "file_extension": ".py",
   "mimetype": "text/x-python",
   "name": "python",
   "nbconvert_exporter": "python",
   "pygments_lexer": "ipython3",
   "version": "3.6.5"
  }
 },
 "nbformat": 4,
 "nbformat_minor": 2
}
